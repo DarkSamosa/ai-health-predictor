{
 "cells": [
  {
   "cell_type": "code",
   "execution_count": null,
   "id": "7f9a04a6",
   "metadata": {},
   "outputs": [
    {
     "name": "stdout",
     "output_type": "stream",
     "text": [
      "True\n"
     ]
    }
   ],
   "source": [
    "import pandas as pd\n",
    "import numpy as np\n",
    "\n",
    "df_genome = pd.read_excel(\"full_genome.csv\")\n",
    "df_gwas = pd.read_excel(\"full_gwas_summary_stats.csv\")\n",
    "\n",
    "diseases = df_gwas[\"Disease\"].unique()\n",
    "prs_scores = pd.DataFrame()\n",
    "prs_scores[\"Person_ID\"] = df_genome[\"Person_ID\"]\n",
    "\n",
    "for disease in diseases:\n",
    "    betas = df_gwas[df_gwas[\"Disease\"] == disease].set_index(\"SNP\")[\"Beta\"]\n",
    "    common_snps = df_genome.columns.intersection(betas.index)\n",
    "    prs = df_genome[common_snps].dot(betas.loc[common_snps])\n",
    "    prs_scores[f\"PRS_{disease}\"] = prs\n",
    "\n",
    "prs_scores[\"Age\"] = df_genome[\"Age\"]\n",
    "prs_scores[\"BMI\"] = df_genome[\"BMI\"]\n",
    "\n",
    "for disease in diseases:\n",
    "    raw_prs = prs_scores[f\"PRS_{disease}\"]\n",
    "    risk_score = (\n",
    "        0.7*raw_prs + \n",
    "        0.15*prs_scores[\"BMI\"] +\n",
    "        0.1 *prs_scores[\"Age\"] +\n",
    "        np.random.normal(0,0.05, size = len(prs_scores)) # add some noise\n",
    "    )\n",
    "    threshold = np.percentile(risk_score, 75)\n",
    "    prs_scores[f\"{disease}_label\"] = (risk_score>threshold).astype(int)\n",
    "\n",
    "prs_scores.to_csv(r\"C:\\Users\\kavit\\Desktop\\ml mvp\\final_genome_prs.csv\", index=False)\n",
    "\n",
    "\n",
    "\n",
    "\n",
    "    "
   ]
  }
 ],
 "metadata": {
  "kernelspec": {
   "display_name": "Python 3",
   "language": "python",
   "name": "python3"
  },
  "language_info": {
   "codemirror_mode": {
    "name": "ipython",
    "version": 3
   },
   "file_extension": ".py",
   "mimetype": "text/x-python",
   "name": "python",
   "nbconvert_exporter": "python",
   "pygments_lexer": "ipython3",
   "version": "3.12.2"
  }
 },
 "nbformat": 4,
 "nbformat_minor": 5
}
